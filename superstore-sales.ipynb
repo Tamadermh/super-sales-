{
 "cells": [
  {
   "cell_type": "code",
   "execution_count": 1,
   "id": "c69f7a09",
   "metadata": {
    "_cell_guid": "b1076dfc-b9ad-4769-8c92-a6c4dae69d19",
    "_uuid": "8f2839f25d086af736a60e9eeb907d3b93b6e0e5",
    "execution": {
     "iopub.execute_input": "2023-01-31T07:11:37.647582Z",
     "iopub.status.busy": "2023-01-31T07:11:37.646521Z",
     "iopub.status.idle": "2023-01-31T07:11:37.676021Z",
     "shell.execute_reply": "2023-01-31T07:11:37.675023Z"
    },
    "papermill": {
     "duration": 0.046453,
     "end_time": "2023-01-31T07:11:37.678749",
     "exception": false,
     "start_time": "2023-01-31T07:11:37.632296",
     "status": "completed"
    },
    "tags": []
   },
   "outputs": [
    {
     "name": "stdout",
     "output_type": "stream",
     "text": [
      "/kaggle/input/sales-forecasting/train.csv\n"
     ]
    }
   ],
   "source": [
    "# This Python 3 environment comes with many helpful analytics libraries installed\n",
    "# It is defined by the kaggle/python Docker image: https://github.com/kaggle/docker-python\n",
    "# For example, here's several helpful packages to load\n",
    "\n",
    "import numpy as np # linear algebra\n",
    "import pandas as pd # data processing, CSV file I/O (e.g. pd.read_csv)\n",
    "\n",
    "# Input data files are available in the read-only \"../input/\" directory\n",
    "# For example, running this (by clicking run or pressing Shift+Enter) will list all files under the input directory\n",
    "\n",
    "import os\n",
    "for dirname, _, filenames in os.walk('/kaggle/input'):\n",
    "    for filename in filenames:\n",
    "        print(os.path.join(dirname, filename))\n",
    "\n",
    "# You can write up to 20GB to the current directory (/kaggle/working/) that gets preserved as output when you create a version using \"Save & Run All\" \n",
    "# You can also write temporary files to /kaggle/temp/, but they won't be saved outside of the current session"
   ]
  },
  {
   "cell_type": "markdown",
   "id": "b569ae49",
   "metadata": {
    "papermill": {
     "duration": 0.010054,
     "end_time": "2023-01-31T07:11:37.700489",
     "exception": false,
     "start_time": "2023-01-31T07:11:37.690435",
     "status": "completed"
    },
    "tags": []
   },
   "source": [
    "### import librares"
   ]
  },
  {
   "cell_type": "code",
   "execution_count": 2,
   "id": "1278be1c",
   "metadata": {
    "execution": {
     "iopub.execute_input": "2023-01-31T07:11:37.724665Z",
     "iopub.status.busy": "2023-01-31T07:11:37.723974Z",
     "iopub.status.idle": "2023-01-31T07:11:40.122717Z",
     "shell.execute_reply": "2023-01-31T07:11:40.121519Z"
    },
    "papermill": {
     "duration": 2.41565,
     "end_time": "2023-01-31T07:11:40.126057",
     "exception": false,
     "start_time": "2023-01-31T07:11:37.710407",
     "status": "completed"
    },
    "tags": []
   },
   "outputs": [],
   "source": [
    "import numpy as np\n",
    "import pandas as pd\n",
    "import matplotlib.pyplot as plt \n",
    "import seaborn as sns \n",
    "import plotly.express as px"
   ]
  },
  {
   "cell_type": "code",
   "execution_count": 3,
   "id": "6c2af55b",
   "metadata": {
    "execution": {
     "iopub.execute_input": "2023-01-31T07:11:40.154922Z",
     "iopub.status.busy": "2023-01-31T07:11:40.153743Z",
     "iopub.status.idle": "2023-01-31T07:11:40.265759Z",
     "shell.execute_reply": "2023-01-31T07:11:40.264166Z"
    },
    "papermill": {
     "duration": 0.127982,
     "end_time": "2023-01-31T07:11:40.269179",
     "exception": false,
     "start_time": "2023-01-31T07:11:40.141197",
     "status": "completed"
    },
    "tags": []
   },
   "outputs": [],
   "source": [
    "df=pd.read_csv('/kaggle/input/sales-forecasting/train.csv')"
   ]
  },
  {
   "cell_type": "code",
   "execution_count": 4,
   "id": "e7bf6929",
   "metadata": {
    "execution": {
     "iopub.execute_input": "2023-01-31T07:11:40.296147Z",
     "iopub.status.busy": "2023-01-31T07:11:40.295581Z",
     "iopub.status.idle": "2023-01-31T07:11:40.332599Z",
     "shell.execute_reply": "2023-01-31T07:11:40.330464Z"
    },
    "papermill": {
     "duration": 0.055046,
     "end_time": "2023-01-31T07:11:40.336086",
     "exception": false,
     "start_time": "2023-01-31T07:11:40.281040",
     "status": "completed"
    },
    "tags": []
   },
   "outputs": [
    {
     "data": {
      "text/html": [
       "<div>\n",
       "<style scoped>\n",
       "    .dataframe tbody tr th:only-of-type {\n",
       "        vertical-align: middle;\n",
       "    }\n",
       "\n",
       "    .dataframe tbody tr th {\n",
       "        vertical-align: top;\n",
       "    }\n",
       "\n",
       "    .dataframe thead th {\n",
       "        text-align: right;\n",
       "    }\n",
       "</style>\n",
       "<table border=\"1\" class=\"dataframe\">\n",
       "  <thead>\n",
       "    <tr style=\"text-align: right;\">\n",
       "      <th></th>\n",
       "      <th>Row ID</th>\n",
       "      <th>Order ID</th>\n",
       "      <th>Order Date</th>\n",
       "      <th>Ship Date</th>\n",
       "      <th>Ship Mode</th>\n",
       "      <th>Customer ID</th>\n",
       "      <th>Customer Name</th>\n",
       "      <th>Segment</th>\n",
       "      <th>Country</th>\n",
       "      <th>City</th>\n",
       "      <th>State</th>\n",
       "      <th>Postal Code</th>\n",
       "      <th>Region</th>\n",
       "      <th>Product ID</th>\n",
       "      <th>Category</th>\n",
       "      <th>Sub-Category</th>\n",
       "      <th>Product Name</th>\n",
       "      <th>Sales</th>\n",
       "    </tr>\n",
       "  </thead>\n",
       "  <tbody>\n",
       "    <tr>\n",
       "      <th>0</th>\n",
       "      <td>1</td>\n",
       "      <td>CA-2017-152156</td>\n",
       "      <td>08/11/2017</td>\n",
       "      <td>11/11/2017</td>\n",
       "      <td>Second Class</td>\n",
       "      <td>CG-12520</td>\n",
       "      <td>Claire Gute</td>\n",
       "      <td>Consumer</td>\n",
       "      <td>United States</td>\n",
       "      <td>Henderson</td>\n",
       "      <td>Kentucky</td>\n",
       "      <td>42420.0</td>\n",
       "      <td>South</td>\n",
       "      <td>FUR-BO-10001798</td>\n",
       "      <td>Furniture</td>\n",
       "      <td>Bookcases</td>\n",
       "      <td>Bush Somerset Collection Bookcase</td>\n",
       "      <td>261.9600</td>\n",
       "    </tr>\n",
       "    <tr>\n",
       "      <th>1</th>\n",
       "      <td>2</td>\n",
       "      <td>CA-2017-152156</td>\n",
       "      <td>08/11/2017</td>\n",
       "      <td>11/11/2017</td>\n",
       "      <td>Second Class</td>\n",
       "      <td>CG-12520</td>\n",
       "      <td>Claire Gute</td>\n",
       "      <td>Consumer</td>\n",
       "      <td>United States</td>\n",
       "      <td>Henderson</td>\n",
       "      <td>Kentucky</td>\n",
       "      <td>42420.0</td>\n",
       "      <td>South</td>\n",
       "      <td>FUR-CH-10000454</td>\n",
       "      <td>Furniture</td>\n",
       "      <td>Chairs</td>\n",
       "      <td>Hon Deluxe Fabric Upholstered Stacking Chairs,...</td>\n",
       "      <td>731.9400</td>\n",
       "    </tr>\n",
       "    <tr>\n",
       "      <th>2</th>\n",
       "      <td>3</td>\n",
       "      <td>CA-2017-138688</td>\n",
       "      <td>12/06/2017</td>\n",
       "      <td>16/06/2017</td>\n",
       "      <td>Second Class</td>\n",
       "      <td>DV-13045</td>\n",
       "      <td>Darrin Van Huff</td>\n",
       "      <td>Corporate</td>\n",
       "      <td>United States</td>\n",
       "      <td>Los Angeles</td>\n",
       "      <td>California</td>\n",
       "      <td>90036.0</td>\n",
       "      <td>West</td>\n",
       "      <td>OFF-LA-10000240</td>\n",
       "      <td>Office Supplies</td>\n",
       "      <td>Labels</td>\n",
       "      <td>Self-Adhesive Address Labels for Typewriters b...</td>\n",
       "      <td>14.6200</td>\n",
       "    </tr>\n",
       "    <tr>\n",
       "      <th>3</th>\n",
       "      <td>4</td>\n",
       "      <td>US-2016-108966</td>\n",
       "      <td>11/10/2016</td>\n",
       "      <td>18/10/2016</td>\n",
       "      <td>Standard Class</td>\n",
       "      <td>SO-20335</td>\n",
       "      <td>Sean O'Donnell</td>\n",
       "      <td>Consumer</td>\n",
       "      <td>United States</td>\n",
       "      <td>Fort Lauderdale</td>\n",
       "      <td>Florida</td>\n",
       "      <td>33311.0</td>\n",
       "      <td>South</td>\n",
       "      <td>FUR-TA-10000577</td>\n",
       "      <td>Furniture</td>\n",
       "      <td>Tables</td>\n",
       "      <td>Bretford CR4500 Series Slim Rectangular Table</td>\n",
       "      <td>957.5775</td>\n",
       "    </tr>\n",
       "    <tr>\n",
       "      <th>4</th>\n",
       "      <td>5</td>\n",
       "      <td>US-2016-108966</td>\n",
       "      <td>11/10/2016</td>\n",
       "      <td>18/10/2016</td>\n",
       "      <td>Standard Class</td>\n",
       "      <td>SO-20335</td>\n",
       "      <td>Sean O'Donnell</td>\n",
       "      <td>Consumer</td>\n",
       "      <td>United States</td>\n",
       "      <td>Fort Lauderdale</td>\n",
       "      <td>Florida</td>\n",
       "      <td>33311.0</td>\n",
       "      <td>South</td>\n",
       "      <td>OFF-ST-10000760</td>\n",
       "      <td>Office Supplies</td>\n",
       "      <td>Storage</td>\n",
       "      <td>Eldon Fold 'N Roll Cart System</td>\n",
       "      <td>22.3680</td>\n",
       "    </tr>\n",
       "  </tbody>\n",
       "</table>\n",
       "</div>"
      ],
      "text/plain": [
       "   Row ID        Order ID  Order Date   Ship Date       Ship Mode Customer ID  \\\n",
       "0       1  CA-2017-152156  08/11/2017  11/11/2017    Second Class    CG-12520   \n",
       "1       2  CA-2017-152156  08/11/2017  11/11/2017    Second Class    CG-12520   \n",
       "2       3  CA-2017-138688  12/06/2017  16/06/2017    Second Class    DV-13045   \n",
       "3       4  US-2016-108966  11/10/2016  18/10/2016  Standard Class    SO-20335   \n",
       "4       5  US-2016-108966  11/10/2016  18/10/2016  Standard Class    SO-20335   \n",
       "\n",
       "     Customer Name    Segment        Country             City       State  \\\n",
       "0      Claire Gute   Consumer  United States        Henderson    Kentucky   \n",
       "1      Claire Gute   Consumer  United States        Henderson    Kentucky   \n",
       "2  Darrin Van Huff  Corporate  United States      Los Angeles  California   \n",
       "3   Sean O'Donnell   Consumer  United States  Fort Lauderdale     Florida   \n",
       "4   Sean O'Donnell   Consumer  United States  Fort Lauderdale     Florida   \n",
       "\n",
       "   Postal Code Region       Product ID         Category Sub-Category  \\\n",
       "0      42420.0  South  FUR-BO-10001798        Furniture    Bookcases   \n",
       "1      42420.0  South  FUR-CH-10000454        Furniture       Chairs   \n",
       "2      90036.0   West  OFF-LA-10000240  Office Supplies       Labels   \n",
       "3      33311.0  South  FUR-TA-10000577        Furniture       Tables   \n",
       "4      33311.0  South  OFF-ST-10000760  Office Supplies      Storage   \n",
       "\n",
       "                                        Product Name     Sales  \n",
       "0                  Bush Somerset Collection Bookcase  261.9600  \n",
       "1  Hon Deluxe Fabric Upholstered Stacking Chairs,...  731.9400  \n",
       "2  Self-Adhesive Address Labels for Typewriters b...   14.6200  \n",
       "3      Bretford CR4500 Series Slim Rectangular Table  957.5775  \n",
       "4                     Eldon Fold 'N Roll Cart System   22.3680  "
      ]
     },
     "execution_count": 4,
     "metadata": {},
     "output_type": "execute_result"
    }
   ],
   "source": [
    "df.head()"
   ]
  },
  {
   "cell_type": "code",
   "execution_count": 5,
   "id": "08c3b5f3",
   "metadata": {
    "execution": {
     "iopub.execute_input": "2023-01-31T07:11:40.360972Z",
     "iopub.status.busy": "2023-01-31T07:11:40.360390Z",
     "iopub.status.idle": "2023-01-31T07:11:40.400526Z",
     "shell.execute_reply": "2023-01-31T07:11:40.398512Z"
    },
    "papermill": {
     "duration": 0.056107,
     "end_time": "2023-01-31T07:11:40.403841",
     "exception": false,
     "start_time": "2023-01-31T07:11:40.347734",
     "status": "completed"
    },
    "tags": []
   },
   "outputs": [
    {
     "name": "stdout",
     "output_type": "stream",
     "text": [
      "<class 'pandas.core.frame.DataFrame'>\n",
      "RangeIndex: 9800 entries, 0 to 9799\n",
      "Data columns (total 18 columns):\n",
      " #   Column         Non-Null Count  Dtype  \n",
      "---  ------         --------------  -----  \n",
      " 0   Row ID         9800 non-null   int64  \n",
      " 1   Order ID       9800 non-null   object \n",
      " 2   Order Date     9800 non-null   object \n",
      " 3   Ship Date      9800 non-null   object \n",
      " 4   Ship Mode      9800 non-null   object \n",
      " 5   Customer ID    9800 non-null   object \n",
      " 6   Customer Name  9800 non-null   object \n",
      " 7   Segment        9800 non-null   object \n",
      " 8   Country        9800 non-null   object \n",
      " 9   City           9800 non-null   object \n",
      " 10  State          9800 non-null   object \n",
      " 11  Postal Code    9789 non-null   float64\n",
      " 12  Region         9800 non-null   object \n",
      " 13  Product ID     9800 non-null   object \n",
      " 14  Category       9800 non-null   object \n",
      " 15  Sub-Category   9800 non-null   object \n",
      " 16  Product Name   9800 non-null   object \n",
      " 17  Sales          9800 non-null   float64\n",
      "dtypes: float64(2), int64(1), object(15)\n",
      "memory usage: 1.3+ MB\n"
     ]
    }
   ],
   "source": [
    "df.info()"
   ]
  },
  {
   "cell_type": "markdown",
   "id": "6844ed82",
   "metadata": {
    "papermill": {
     "duration": 0.010306,
     "end_time": "2023-01-31T07:11:40.424876",
     "exception": false,
     "start_time": "2023-01-31T07:11:40.414570",
     "status": "completed"
    },
    "tags": []
   },
   "source": [
    "### Notes :\n",
    "    - change column type[Order Date ,Ship Date ,Postal Code]\n",
    "    - null values : Postal Code"
   ]
  },
  {
   "cell_type": "code",
   "execution_count": 6,
   "id": "23a4bc36",
   "metadata": {
    "execution": {
     "iopub.execute_input": "2023-01-31T07:11:40.449912Z",
     "iopub.status.busy": "2023-01-31T07:11:40.449335Z",
     "iopub.status.idle": "2023-01-31T07:11:40.480848Z",
     "shell.execute_reply": "2023-01-31T07:11:40.479317Z"
    },
    "papermill": {
     "duration": 0.047671,
     "end_time": "2023-01-31T07:11:40.483966",
     "exception": false,
     "start_time": "2023-01-31T07:11:40.436295",
     "status": "completed"
    },
    "tags": []
   },
   "outputs": [
    {
     "data": {
      "text/html": [
       "<div>\n",
       "<style scoped>\n",
       "    .dataframe tbody tr th:only-of-type {\n",
       "        vertical-align: middle;\n",
       "    }\n",
       "\n",
       "    .dataframe tbody tr th {\n",
       "        vertical-align: top;\n",
       "    }\n",
       "\n",
       "    .dataframe thead th {\n",
       "        text-align: right;\n",
       "    }\n",
       "</style>\n",
       "<table border=\"1\" class=\"dataframe\">\n",
       "  <thead>\n",
       "    <tr style=\"text-align: right;\">\n",
       "      <th></th>\n",
       "      <th>Row ID</th>\n",
       "      <th>Postal Code</th>\n",
       "      <th>Sales</th>\n",
       "    </tr>\n",
       "  </thead>\n",
       "  <tbody>\n",
       "    <tr>\n",
       "      <th>count</th>\n",
       "      <td>9800.000000</td>\n",
       "      <td>9789.000000</td>\n",
       "      <td>9800.000000</td>\n",
       "    </tr>\n",
       "    <tr>\n",
       "      <th>mean</th>\n",
       "      <td>4900.500000</td>\n",
       "      <td>55273.322403</td>\n",
       "      <td>230.769059</td>\n",
       "    </tr>\n",
       "    <tr>\n",
       "      <th>std</th>\n",
       "      <td>2829.160653</td>\n",
       "      <td>32041.223413</td>\n",
       "      <td>626.651875</td>\n",
       "    </tr>\n",
       "    <tr>\n",
       "      <th>min</th>\n",
       "      <td>1.000000</td>\n",
       "      <td>1040.000000</td>\n",
       "      <td>0.444000</td>\n",
       "    </tr>\n",
       "    <tr>\n",
       "      <th>25%</th>\n",
       "      <td>2450.750000</td>\n",
       "      <td>23223.000000</td>\n",
       "      <td>17.248000</td>\n",
       "    </tr>\n",
       "    <tr>\n",
       "      <th>50%</th>\n",
       "      <td>4900.500000</td>\n",
       "      <td>58103.000000</td>\n",
       "      <td>54.490000</td>\n",
       "    </tr>\n",
       "    <tr>\n",
       "      <th>75%</th>\n",
       "      <td>7350.250000</td>\n",
       "      <td>90008.000000</td>\n",
       "      <td>210.605000</td>\n",
       "    </tr>\n",
       "    <tr>\n",
       "      <th>max</th>\n",
       "      <td>9800.000000</td>\n",
       "      <td>99301.000000</td>\n",
       "      <td>22638.480000</td>\n",
       "    </tr>\n",
       "  </tbody>\n",
       "</table>\n",
       "</div>"
      ],
      "text/plain": [
       "            Row ID   Postal Code         Sales\n",
       "count  9800.000000   9789.000000   9800.000000\n",
       "mean   4900.500000  55273.322403    230.769059\n",
       "std    2829.160653  32041.223413    626.651875\n",
       "min       1.000000   1040.000000      0.444000\n",
       "25%    2450.750000  23223.000000     17.248000\n",
       "50%    4900.500000  58103.000000     54.490000\n",
       "75%    7350.250000  90008.000000    210.605000\n",
       "max    9800.000000  99301.000000  22638.480000"
      ]
     },
     "execution_count": 6,
     "metadata": {},
     "output_type": "execute_result"
    }
   ],
   "source": [
    "df.describe()"
   ]
  },
  {
   "cell_type": "code",
   "execution_count": 7,
   "id": "f0051017",
   "metadata": {
    "execution": {
     "iopub.execute_input": "2023-01-31T07:11:40.508368Z",
     "iopub.status.busy": "2023-01-31T07:11:40.507882Z",
     "iopub.status.idle": "2023-01-31T07:11:40.534125Z",
     "shell.execute_reply": "2023-01-31T07:11:40.532462Z"
    },
    "papermill": {
     "duration": 0.042435,
     "end_time": "2023-01-31T07:11:40.537374",
     "exception": false,
     "start_time": "2023-01-31T07:11:40.494939",
     "status": "completed"
    },
    "tags": []
   },
   "outputs": [
    {
     "data": {
      "text/html": [
       "<div>\n",
       "<style scoped>\n",
       "    .dataframe tbody tr th:only-of-type {\n",
       "        vertical-align: middle;\n",
       "    }\n",
       "\n",
       "    .dataframe tbody tr th {\n",
       "        vertical-align: top;\n",
       "    }\n",
       "\n",
       "    .dataframe thead th {\n",
       "        text-align: right;\n",
       "    }\n",
       "</style>\n",
       "<table border=\"1\" class=\"dataframe\">\n",
       "  <thead>\n",
       "    <tr style=\"text-align: right;\">\n",
       "      <th></th>\n",
       "      <th>Row ID</th>\n",
       "      <th>Order ID</th>\n",
       "      <th>Order Date</th>\n",
       "      <th>Ship Date</th>\n",
       "      <th>Ship Mode</th>\n",
       "      <th>Customer ID</th>\n",
       "      <th>Customer Name</th>\n",
       "      <th>Segment</th>\n",
       "      <th>Country</th>\n",
       "      <th>City</th>\n",
       "      <th>State</th>\n",
       "      <th>Postal Code</th>\n",
       "      <th>Region</th>\n",
       "      <th>Product ID</th>\n",
       "      <th>Category</th>\n",
       "      <th>Sub-Category</th>\n",
       "      <th>Product Name</th>\n",
       "      <th>Sales</th>\n",
       "    </tr>\n",
       "  </thead>\n",
       "  <tbody>\n",
       "    <tr>\n",
       "      <th>3658</th>\n",
       "      <td>3659</td>\n",
       "      <td>CA-2016-128083</td>\n",
       "      <td>12/03/2016</td>\n",
       "      <td>17/03/2016</td>\n",
       "      <td>Standard Class</td>\n",
       "      <td>EB-13750</td>\n",
       "      <td>Edward Becker</td>\n",
       "      <td>Corporate</td>\n",
       "      <td>United States</td>\n",
       "      <td>Plantation</td>\n",
       "      <td>Florida</td>\n",
       "      <td>33317.0</td>\n",
       "      <td>South</td>\n",
       "      <td>FUR-FU-10003194</td>\n",
       "      <td>Furniture</td>\n",
       "      <td>Furnishings</td>\n",
       "      <td>Eldon Expressions Desk Accessory, Wood Pencil ...</td>\n",
       "      <td>30.880</td>\n",
       "    </tr>\n",
       "    <tr>\n",
       "      <th>306</th>\n",
       "      <td>307</td>\n",
       "      <td>CA-2015-111003</td>\n",
       "      <td>01/06/2015</td>\n",
       "      <td>06/06/2015</td>\n",
       "      <td>Standard Class</td>\n",
       "      <td>CR-12625</td>\n",
       "      <td>Corey Roper</td>\n",
       "      <td>Home Office</td>\n",
       "      <td>United States</td>\n",
       "      <td>Lakewood</td>\n",
       "      <td>New Jersey</td>\n",
       "      <td>8701.0</td>\n",
       "      <td>East</td>\n",
       "      <td>OFF-BI-10001072</td>\n",
       "      <td>Office Supplies</td>\n",
       "      <td>Binders</td>\n",
       "      <td>GBC Clear Cover, 8-1/2 x 11, unpunched, 25 cov...</td>\n",
       "      <td>45.480</td>\n",
       "    </tr>\n",
       "    <tr>\n",
       "      <th>328</th>\n",
       "      <td>329</td>\n",
       "      <td>US-2017-141544</td>\n",
       "      <td>30/08/2017</td>\n",
       "      <td>01/09/2017</td>\n",
       "      <td>First Class</td>\n",
       "      <td>PO-18850</td>\n",
       "      <td>Patrick O'Brill</td>\n",
       "      <td>Consumer</td>\n",
       "      <td>United States</td>\n",
       "      <td>Philadelphia</td>\n",
       "      <td>Pennsylvania</td>\n",
       "      <td>19143.0</td>\n",
       "      <td>East</td>\n",
       "      <td>FUR-CH-10003312</td>\n",
       "      <td>Furniture</td>\n",
       "      <td>Chairs</td>\n",
       "      <td>Hon 2090 “Pillow Soft” Series Mid Back Swivel/...</td>\n",
       "      <td>786.744</td>\n",
       "    </tr>\n",
       "    <tr>\n",
       "      <th>1294</th>\n",
       "      <td>1295</td>\n",
       "      <td>CA-2016-101707</td>\n",
       "      <td>27/08/2016</td>\n",
       "      <td>01/09/2016</td>\n",
       "      <td>Standard Class</td>\n",
       "      <td>PF-19165</td>\n",
       "      <td>Philip Fox</td>\n",
       "      <td>Consumer</td>\n",
       "      <td>United States</td>\n",
       "      <td>San Diego</td>\n",
       "      <td>California</td>\n",
       "      <td>92105.0</td>\n",
       "      <td>West</td>\n",
       "      <td>OFF-LA-10000134</td>\n",
       "      <td>Office Supplies</td>\n",
       "      <td>Labels</td>\n",
       "      <td>Avery 511</td>\n",
       "      <td>3.080</td>\n",
       "    </tr>\n",
       "    <tr>\n",
       "      <th>4235</th>\n",
       "      <td>4236</td>\n",
       "      <td>CA-2015-168823</td>\n",
       "      <td>21/09/2015</td>\n",
       "      <td>24/09/2015</td>\n",
       "      <td>First Class</td>\n",
       "      <td>MA-17560</td>\n",
       "      <td>Matt Abelman</td>\n",
       "      <td>Home Office</td>\n",
       "      <td>United States</td>\n",
       "      <td>Philadelphia</td>\n",
       "      <td>Pennsylvania</td>\n",
       "      <td>19143.0</td>\n",
       "      <td>East</td>\n",
       "      <td>OFF-LA-10004425</td>\n",
       "      <td>Office Supplies</td>\n",
       "      <td>Labels</td>\n",
       "      <td>Staple-on labels</td>\n",
       "      <td>20.808</td>\n",
       "    </tr>\n",
       "  </tbody>\n",
       "</table>\n",
       "</div>"
      ],
      "text/plain": [
       "      Row ID        Order ID  Order Date   Ship Date       Ship Mode  \\\n",
       "3658    3659  CA-2016-128083  12/03/2016  17/03/2016  Standard Class   \n",
       "306      307  CA-2015-111003  01/06/2015  06/06/2015  Standard Class   \n",
       "328      329  US-2017-141544  30/08/2017  01/09/2017     First Class   \n",
       "1294    1295  CA-2016-101707  27/08/2016  01/09/2016  Standard Class   \n",
       "4235    4236  CA-2015-168823  21/09/2015  24/09/2015     First Class   \n",
       "\n",
       "     Customer ID    Customer Name      Segment        Country          City  \\\n",
       "3658    EB-13750    Edward Becker    Corporate  United States    Plantation   \n",
       "306     CR-12625      Corey Roper  Home Office  United States      Lakewood   \n",
       "328     PO-18850  Patrick O'Brill     Consumer  United States  Philadelphia   \n",
       "1294    PF-19165       Philip Fox     Consumer  United States     San Diego   \n",
       "4235    MA-17560     Matt Abelman  Home Office  United States  Philadelphia   \n",
       "\n",
       "             State  Postal Code Region       Product ID         Category  \\\n",
       "3658       Florida      33317.0  South  FUR-FU-10003194        Furniture   \n",
       "306     New Jersey       8701.0   East  OFF-BI-10001072  Office Supplies   \n",
       "328   Pennsylvania      19143.0   East  FUR-CH-10003312        Furniture   \n",
       "1294    California      92105.0   West  OFF-LA-10000134  Office Supplies   \n",
       "4235  Pennsylvania      19143.0   East  OFF-LA-10004425  Office Supplies   \n",
       "\n",
       "     Sub-Category                                       Product Name    Sales  \n",
       "3658  Furnishings  Eldon Expressions Desk Accessory, Wood Pencil ...   30.880  \n",
       "306       Binders  GBC Clear Cover, 8-1/2 x 11, unpunched, 25 cov...   45.480  \n",
       "328        Chairs  Hon 2090 “Pillow Soft” Series Mid Back Swivel/...  786.744  \n",
       "1294       Labels                                          Avery 511    3.080  \n",
       "4235       Labels                                   Staple-on labels   20.808  "
      ]
     },
     "execution_count": 7,
     "metadata": {},
     "output_type": "execute_result"
    }
   ],
   "source": [
    "df.sample(5)"
   ]
  },
  {
   "cell_type": "code",
   "execution_count": 8,
   "id": "30c7f6b2",
   "metadata": {
    "execution": {
     "iopub.execute_input": "2023-01-31T07:11:40.563698Z",
     "iopub.status.busy": "2023-01-31T07:11:40.563199Z",
     "iopub.status.idle": "2023-01-31T07:11:40.604298Z",
     "shell.execute_reply": "2023-01-31T07:11:40.603008Z"
    },
    "papermill": {
     "duration": 0.059025,
     "end_time": "2023-01-31T07:11:40.608474",
     "exception": false,
     "start_time": "2023-01-31T07:11:40.549449",
     "status": "completed"
    },
    "tags": []
   },
   "outputs": [
    {
     "data": {
      "text/html": [
       "<div>\n",
       "<style scoped>\n",
       "    .dataframe tbody tr th:only-of-type {\n",
       "        vertical-align: middle;\n",
       "    }\n",
       "\n",
       "    .dataframe tbody tr th {\n",
       "        vertical-align: top;\n",
       "    }\n",
       "\n",
       "    .dataframe thead th {\n",
       "        text-align: right;\n",
       "    }\n",
       "</style>\n",
       "<table border=\"1\" class=\"dataframe\">\n",
       "  <thead>\n",
       "    <tr style=\"text-align: right;\">\n",
       "      <th></th>\n",
       "      <th>Row ID</th>\n",
       "      <th>Order ID</th>\n",
       "      <th>Order Date</th>\n",
       "      <th>Ship Date</th>\n",
       "      <th>Ship Mode</th>\n",
       "      <th>Customer ID</th>\n",
       "      <th>Customer Name</th>\n",
       "      <th>Segment</th>\n",
       "      <th>Country</th>\n",
       "      <th>City</th>\n",
       "      <th>State</th>\n",
       "      <th>Postal Code</th>\n",
       "      <th>Region</th>\n",
       "      <th>Product ID</th>\n",
       "      <th>Category</th>\n",
       "      <th>Sub-Category</th>\n",
       "      <th>Product Name</th>\n",
       "      <th>Sales</th>\n",
       "    </tr>\n",
       "  </thead>\n",
       "  <tbody>\n",
       "  </tbody>\n",
       "</table>\n",
       "</div>"
      ],
      "text/plain": [
       "Empty DataFrame\n",
       "Columns: [Row ID, Order ID, Order Date, Ship Date, Ship Mode, Customer ID, Customer Name, Segment, Country, City, State, Postal Code, Region, Product ID, Category, Sub-Category, Product Name, Sales]\n",
       "Index: []"
      ]
     },
     "execution_count": 8,
     "metadata": {},
     "output_type": "execute_result"
    }
   ],
   "source": [
    "## detect duplicate\n",
    "df[df.duplicated()]"
   ]
  },
  {
   "cell_type": "markdown",
   "id": "a77b2c67",
   "metadata": {
    "papermill": {
     "duration": 0.011798,
     "end_time": "2023-01-31T07:11:40.632279",
     "exception": false,
     "start_time": "2023-01-31T07:11:40.620481",
     "status": "completed"
    },
    "tags": []
   },
   "source": [
    "#### Note :\n",
    "    - no duplicate"
   ]
  },
  {
   "cell_type": "code",
   "execution_count": 9,
   "id": "0a27ce23",
   "metadata": {
    "execution": {
     "iopub.execute_input": "2023-01-31T07:11:40.657805Z",
     "iopub.status.busy": "2023-01-31T07:11:40.657246Z",
     "iopub.status.idle": "2023-01-31T07:11:40.676951Z",
     "shell.execute_reply": "2023-01-31T07:11:40.675280Z"
    },
    "papermill": {
     "duration": 0.036535,
     "end_time": "2023-01-31T07:11:40.680363",
     "exception": false,
     "start_time": "2023-01-31T07:11:40.643828",
     "status": "completed"
    },
    "tags": []
   },
   "outputs": [
    {
     "data": {
      "text/plain": [
       "Row ID            0\n",
       "Order ID          0\n",
       "Order Date        0\n",
       "Ship Date         0\n",
       "Ship Mode         0\n",
       "Customer ID       0\n",
       "Customer Name     0\n",
       "Segment           0\n",
       "Country           0\n",
       "City              0\n",
       "State             0\n",
       "Postal Code      11\n",
       "Region            0\n",
       "Product ID        0\n",
       "Category          0\n",
       "Sub-Category      0\n",
       "Product Name      0\n",
       "Sales             0\n",
       "dtype: int64"
      ]
     },
     "execution_count": 9,
     "metadata": {},
     "output_type": "execute_result"
    }
   ],
   "source": [
    "# null values in each columns\n",
    "df.isnull().sum()"
   ]
  },
  {
   "cell_type": "code",
   "execution_count": 10,
   "id": "296e4969",
   "metadata": {
    "execution": {
     "iopub.execute_input": "2023-01-31T07:11:40.707874Z",
     "iopub.status.busy": "2023-01-31T07:11:40.707321Z",
     "iopub.status.idle": "2023-01-31T07:11:40.726324Z",
     "shell.execute_reply": "2023-01-31T07:11:40.724672Z"
    },
    "papermill": {
     "duration": 0.036821,
     "end_time": "2023-01-31T07:11:40.729830",
     "exception": false,
     "start_time": "2023-01-31T07:11:40.693009",
     "status": "completed"
    },
    "tags": []
   },
   "outputs": [
    {
     "data": {
      "text/plain": [
       "11"
      ]
     },
     "execution_count": 10,
     "metadata": {},
     "output_type": "execute_result"
    }
   ],
   "source": [
    "# null values in all df\n",
    "df.isnull().sum().sum()"
   ]
  },
  {
   "cell_type": "code",
   "execution_count": 11,
   "id": "bd44b2be",
   "metadata": {
    "execution": {
     "iopub.execute_input": "2023-01-31T07:11:40.760550Z",
     "iopub.status.busy": "2023-01-31T07:11:40.760045Z",
     "iopub.status.idle": "2023-01-31T07:11:40.788521Z",
     "shell.execute_reply": "2023-01-31T07:11:40.787107Z"
    },
    "papermill": {
     "duration": 0.046447,
     "end_time": "2023-01-31T07:11:40.791131",
     "exception": false,
     "start_time": "2023-01-31T07:11:40.744684",
     "status": "completed"
    },
    "tags": []
   },
   "outputs": [
    {
     "data": {
      "text/html": [
       "<div>\n",
       "<style scoped>\n",
       "    .dataframe tbody tr th:only-of-type {\n",
       "        vertical-align: middle;\n",
       "    }\n",
       "\n",
       "    .dataframe tbody tr th {\n",
       "        vertical-align: top;\n",
       "    }\n",
       "\n",
       "    .dataframe thead th {\n",
       "        text-align: right;\n",
       "    }\n",
       "</style>\n",
       "<table border=\"1\" class=\"dataframe\">\n",
       "  <thead>\n",
       "    <tr style=\"text-align: right;\">\n",
       "      <th></th>\n",
       "      <th>Row ID</th>\n",
       "      <th>Order ID</th>\n",
       "      <th>Order Date</th>\n",
       "      <th>Ship Date</th>\n",
       "      <th>Ship Mode</th>\n",
       "      <th>Customer ID</th>\n",
       "      <th>Customer Name</th>\n",
       "      <th>Segment</th>\n",
       "      <th>Country</th>\n",
       "      <th>City</th>\n",
       "      <th>State</th>\n",
       "      <th>Postal Code</th>\n",
       "      <th>Region</th>\n",
       "      <th>Product ID</th>\n",
       "      <th>Category</th>\n",
       "      <th>Sub-Category</th>\n",
       "      <th>Product Name</th>\n",
       "      <th>Sales</th>\n",
       "    </tr>\n",
       "  </thead>\n",
       "  <tbody>\n",
       "    <tr>\n",
       "      <th>2234</th>\n",
       "      <td>2235</td>\n",
       "      <td>CA-2018-104066</td>\n",
       "      <td>05/12/2018</td>\n",
       "      <td>10/12/2018</td>\n",
       "      <td>Standard Class</td>\n",
       "      <td>QJ-19255</td>\n",
       "      <td>Quincy Jones</td>\n",
       "      <td>Corporate</td>\n",
       "      <td>United States</td>\n",
       "      <td>Burlington</td>\n",
       "      <td>Vermont</td>\n",
       "      <td>NaN</td>\n",
       "      <td>East</td>\n",
       "      <td>TEC-AC-10001013</td>\n",
       "      <td>Technology</td>\n",
       "      <td>Accessories</td>\n",
       "      <td>Logitech ClearChat Comfort/USB Headset H390</td>\n",
       "      <td>205.03</td>\n",
       "    </tr>\n",
       "    <tr>\n",
       "      <th>5274</th>\n",
       "      <td>5275</td>\n",
       "      <td>CA-2016-162887</td>\n",
       "      <td>07/11/2016</td>\n",
       "      <td>09/11/2016</td>\n",
       "      <td>Second Class</td>\n",
       "      <td>SV-20785</td>\n",
       "      <td>Stewart Visinsky</td>\n",
       "      <td>Consumer</td>\n",
       "      <td>United States</td>\n",
       "      <td>Burlington</td>\n",
       "      <td>Vermont</td>\n",
       "      <td>NaN</td>\n",
       "      <td>East</td>\n",
       "      <td>FUR-CH-10000595</td>\n",
       "      <td>Furniture</td>\n",
       "      <td>Chairs</td>\n",
       "      <td>Safco Contoured Stacking Chairs</td>\n",
       "      <td>715.20</td>\n",
       "    </tr>\n",
       "    <tr>\n",
       "      <th>8798</th>\n",
       "      <td>8799</td>\n",
       "      <td>US-2017-150140</td>\n",
       "      <td>06/04/2017</td>\n",
       "      <td>10/04/2017</td>\n",
       "      <td>Standard Class</td>\n",
       "      <td>VM-21685</td>\n",
       "      <td>Valerie Mitchum</td>\n",
       "      <td>Home Office</td>\n",
       "      <td>United States</td>\n",
       "      <td>Burlington</td>\n",
       "      <td>Vermont</td>\n",
       "      <td>NaN</td>\n",
       "      <td>East</td>\n",
       "      <td>TEC-PH-10002555</td>\n",
       "      <td>Technology</td>\n",
       "      <td>Phones</td>\n",
       "      <td>Nortel Meridian M5316 Digital phone</td>\n",
       "      <td>1294.75</td>\n",
       "    </tr>\n",
       "    <tr>\n",
       "      <th>9146</th>\n",
       "      <td>9147</td>\n",
       "      <td>US-2017-165505</td>\n",
       "      <td>23/01/2017</td>\n",
       "      <td>27/01/2017</td>\n",
       "      <td>Standard Class</td>\n",
       "      <td>CB-12535</td>\n",
       "      <td>Claudia Bergmann</td>\n",
       "      <td>Corporate</td>\n",
       "      <td>United States</td>\n",
       "      <td>Burlington</td>\n",
       "      <td>Vermont</td>\n",
       "      <td>NaN</td>\n",
       "      <td>East</td>\n",
       "      <td>TEC-AC-10002926</td>\n",
       "      <td>Technology</td>\n",
       "      <td>Accessories</td>\n",
       "      <td>Logitech Wireless Marathon Mouse M705</td>\n",
       "      <td>99.98</td>\n",
       "    </tr>\n",
       "    <tr>\n",
       "      <th>9147</th>\n",
       "      <td>9148</td>\n",
       "      <td>US-2017-165505</td>\n",
       "      <td>23/01/2017</td>\n",
       "      <td>27/01/2017</td>\n",
       "      <td>Standard Class</td>\n",
       "      <td>CB-12535</td>\n",
       "      <td>Claudia Bergmann</td>\n",
       "      <td>Corporate</td>\n",
       "      <td>United States</td>\n",
       "      <td>Burlington</td>\n",
       "      <td>Vermont</td>\n",
       "      <td>NaN</td>\n",
       "      <td>East</td>\n",
       "      <td>OFF-AR-10003477</td>\n",
       "      <td>Office Supplies</td>\n",
       "      <td>Art</td>\n",
       "      <td>4009 Highlighters</td>\n",
       "      <td>8.04</td>\n",
       "    </tr>\n",
       "    <tr>\n",
       "      <th>9148</th>\n",
       "      <td>9149</td>\n",
       "      <td>US-2017-165505</td>\n",
       "      <td>23/01/2017</td>\n",
       "      <td>27/01/2017</td>\n",
       "      <td>Standard Class</td>\n",
       "      <td>CB-12535</td>\n",
       "      <td>Claudia Bergmann</td>\n",
       "      <td>Corporate</td>\n",
       "      <td>United States</td>\n",
       "      <td>Burlington</td>\n",
       "      <td>Vermont</td>\n",
       "      <td>NaN</td>\n",
       "      <td>East</td>\n",
       "      <td>OFF-ST-10001526</td>\n",
       "      <td>Office Supplies</td>\n",
       "      <td>Storage</td>\n",
       "      <td>Iceberg Mobile Mega Data/Printer Cart</td>\n",
       "      <td>1564.29</td>\n",
       "    </tr>\n",
       "    <tr>\n",
       "      <th>9386</th>\n",
       "      <td>9387</td>\n",
       "      <td>US-2018-127292</td>\n",
       "      <td>19/01/2018</td>\n",
       "      <td>23/01/2018</td>\n",
       "      <td>Standard Class</td>\n",
       "      <td>RM-19375</td>\n",
       "      <td>Raymond Messe</td>\n",
       "      <td>Consumer</td>\n",
       "      <td>United States</td>\n",
       "      <td>Burlington</td>\n",
       "      <td>Vermont</td>\n",
       "      <td>NaN</td>\n",
       "      <td>East</td>\n",
       "      <td>OFF-PA-10000157</td>\n",
       "      <td>Office Supplies</td>\n",
       "      <td>Paper</td>\n",
       "      <td>Xerox 191</td>\n",
       "      <td>79.92</td>\n",
       "    </tr>\n",
       "    <tr>\n",
       "      <th>9387</th>\n",
       "      <td>9388</td>\n",
       "      <td>US-2018-127292</td>\n",
       "      <td>19/01/2018</td>\n",
       "      <td>23/01/2018</td>\n",
       "      <td>Standard Class</td>\n",
       "      <td>RM-19375</td>\n",
       "      <td>Raymond Messe</td>\n",
       "      <td>Consumer</td>\n",
       "      <td>United States</td>\n",
       "      <td>Burlington</td>\n",
       "      <td>Vermont</td>\n",
       "      <td>NaN</td>\n",
       "      <td>East</td>\n",
       "      <td>OFF-PA-10001970</td>\n",
       "      <td>Office Supplies</td>\n",
       "      <td>Paper</td>\n",
       "      <td>Xerox 1881</td>\n",
       "      <td>12.28</td>\n",
       "    </tr>\n",
       "    <tr>\n",
       "      <th>9388</th>\n",
       "      <td>9389</td>\n",
       "      <td>US-2018-127292</td>\n",
       "      <td>19/01/2018</td>\n",
       "      <td>23/01/2018</td>\n",
       "      <td>Standard Class</td>\n",
       "      <td>RM-19375</td>\n",
       "      <td>Raymond Messe</td>\n",
       "      <td>Consumer</td>\n",
       "      <td>United States</td>\n",
       "      <td>Burlington</td>\n",
       "      <td>Vermont</td>\n",
       "      <td>NaN</td>\n",
       "      <td>East</td>\n",
       "      <td>OFF-AP-10000828</td>\n",
       "      <td>Office Supplies</td>\n",
       "      <td>Appliances</td>\n",
       "      <td>Avanti 4.4 Cu. Ft. Refrigerator</td>\n",
       "      <td>542.94</td>\n",
       "    </tr>\n",
       "    <tr>\n",
       "      <th>9389</th>\n",
       "      <td>9390</td>\n",
       "      <td>US-2018-127292</td>\n",
       "      <td>19/01/2018</td>\n",
       "      <td>23/01/2018</td>\n",
       "      <td>Standard Class</td>\n",
       "      <td>RM-19375</td>\n",
       "      <td>Raymond Messe</td>\n",
       "      <td>Consumer</td>\n",
       "      <td>United States</td>\n",
       "      <td>Burlington</td>\n",
       "      <td>Vermont</td>\n",
       "      <td>NaN</td>\n",
       "      <td>East</td>\n",
       "      <td>OFF-EN-10001509</td>\n",
       "      <td>Office Supplies</td>\n",
       "      <td>Envelopes</td>\n",
       "      <td>Poly String Tie Envelopes</td>\n",
       "      <td>2.04</td>\n",
       "    </tr>\n",
       "    <tr>\n",
       "      <th>9741</th>\n",
       "      <td>9742</td>\n",
       "      <td>CA-2016-117086</td>\n",
       "      <td>08/11/2016</td>\n",
       "      <td>12/11/2016</td>\n",
       "      <td>Standard Class</td>\n",
       "      <td>QJ-19255</td>\n",
       "      <td>Quincy Jones</td>\n",
       "      <td>Corporate</td>\n",
       "      <td>United States</td>\n",
       "      <td>Burlington</td>\n",
       "      <td>Vermont</td>\n",
       "      <td>NaN</td>\n",
       "      <td>East</td>\n",
       "      <td>FUR-BO-10004834</td>\n",
       "      <td>Furniture</td>\n",
       "      <td>Bookcases</td>\n",
       "      <td>Riverside Palais Royal Lawyers Bookcase, Royal...</td>\n",
       "      <td>4404.90</td>\n",
       "    </tr>\n",
       "  </tbody>\n",
       "</table>\n",
       "</div>"
      ],
      "text/plain": [
       "      Row ID        Order ID  Order Date   Ship Date       Ship Mode  \\\n",
       "2234    2235  CA-2018-104066  05/12/2018  10/12/2018  Standard Class   \n",
       "5274    5275  CA-2016-162887  07/11/2016  09/11/2016    Second Class   \n",
       "8798    8799  US-2017-150140  06/04/2017  10/04/2017  Standard Class   \n",
       "9146    9147  US-2017-165505  23/01/2017  27/01/2017  Standard Class   \n",
       "9147    9148  US-2017-165505  23/01/2017  27/01/2017  Standard Class   \n",
       "9148    9149  US-2017-165505  23/01/2017  27/01/2017  Standard Class   \n",
       "9386    9387  US-2018-127292  19/01/2018  23/01/2018  Standard Class   \n",
       "9387    9388  US-2018-127292  19/01/2018  23/01/2018  Standard Class   \n",
       "9388    9389  US-2018-127292  19/01/2018  23/01/2018  Standard Class   \n",
       "9389    9390  US-2018-127292  19/01/2018  23/01/2018  Standard Class   \n",
       "9741    9742  CA-2016-117086  08/11/2016  12/11/2016  Standard Class   \n",
       "\n",
       "     Customer ID     Customer Name      Segment        Country        City  \\\n",
       "2234    QJ-19255      Quincy Jones    Corporate  United States  Burlington   \n",
       "5274    SV-20785  Stewart Visinsky     Consumer  United States  Burlington   \n",
       "8798    VM-21685   Valerie Mitchum  Home Office  United States  Burlington   \n",
       "9146    CB-12535  Claudia Bergmann    Corporate  United States  Burlington   \n",
       "9147    CB-12535  Claudia Bergmann    Corporate  United States  Burlington   \n",
       "9148    CB-12535  Claudia Bergmann    Corporate  United States  Burlington   \n",
       "9386    RM-19375     Raymond Messe     Consumer  United States  Burlington   \n",
       "9387    RM-19375     Raymond Messe     Consumer  United States  Burlington   \n",
       "9388    RM-19375     Raymond Messe     Consumer  United States  Burlington   \n",
       "9389    RM-19375     Raymond Messe     Consumer  United States  Burlington   \n",
       "9741    QJ-19255      Quincy Jones    Corporate  United States  Burlington   \n",
       "\n",
       "        State  Postal Code Region       Product ID         Category  \\\n",
       "2234  Vermont          NaN   East  TEC-AC-10001013       Technology   \n",
       "5274  Vermont          NaN   East  FUR-CH-10000595        Furniture   \n",
       "8798  Vermont          NaN   East  TEC-PH-10002555       Technology   \n",
       "9146  Vermont          NaN   East  TEC-AC-10002926       Technology   \n",
       "9147  Vermont          NaN   East  OFF-AR-10003477  Office Supplies   \n",
       "9148  Vermont          NaN   East  OFF-ST-10001526  Office Supplies   \n",
       "9386  Vermont          NaN   East  OFF-PA-10000157  Office Supplies   \n",
       "9387  Vermont          NaN   East  OFF-PA-10001970  Office Supplies   \n",
       "9388  Vermont          NaN   East  OFF-AP-10000828  Office Supplies   \n",
       "9389  Vermont          NaN   East  OFF-EN-10001509  Office Supplies   \n",
       "9741  Vermont          NaN   East  FUR-BO-10004834        Furniture   \n",
       "\n",
       "     Sub-Category                                       Product Name    Sales  \n",
       "2234  Accessories        Logitech ClearChat Comfort/USB Headset H390   205.03  \n",
       "5274       Chairs                    Safco Contoured Stacking Chairs   715.20  \n",
       "8798       Phones                Nortel Meridian M5316 Digital phone  1294.75  \n",
       "9146  Accessories              Logitech Wireless Marathon Mouse M705    99.98  \n",
       "9147          Art                                  4009 Highlighters     8.04  \n",
       "9148      Storage              Iceberg Mobile Mega Data/Printer Cart  1564.29  \n",
       "9386        Paper                                          Xerox 191    79.92  \n",
       "9387        Paper                                         Xerox 1881    12.28  \n",
       "9388   Appliances                    Avanti 4.4 Cu. Ft. Refrigerator   542.94  \n",
       "9389    Envelopes                          Poly String Tie Envelopes     2.04  \n",
       "9741    Bookcases  Riverside Palais Royal Lawyers Bookcase, Royal...  4404.90  "
      ]
     },
     "execution_count": 11,
     "metadata": {},
     "output_type": "execute_result"
    }
   ],
   "source": [
    "## see null rows\n",
    "df[df['Postal Code'].isnull()]"
   ]
  },
  {
   "cell_type": "code",
   "execution_count": 12,
   "id": "1afc0724",
   "metadata": {
    "execution": {
     "iopub.execute_input": "2023-01-31T07:11:40.819880Z",
     "iopub.status.busy": "2023-01-31T07:11:40.818596Z",
     "iopub.status.idle": "2023-01-31T07:11:40.836668Z",
     "shell.execute_reply": "2023-01-31T07:11:40.835118Z"
    },
    "papermill": {
     "duration": 0.036046,
     "end_time": "2023-01-31T07:11:40.840269",
     "exception": false,
     "start_time": "2023-01-31T07:11:40.804223",
     "status": "completed"
    },
    "tags": []
   },
   "outputs": [
    {
     "data": {
      "text/plain": [
       "Row ID           1097\n",
       "Order ID         1097\n",
       "Order Date       1097\n",
       "Ship Date        1097\n",
       "Ship Mode        1097\n",
       "Customer ID      1097\n",
       "Customer Name    1097\n",
       "Segment          1097\n",
       "Country          1097\n",
       "City             1097\n",
       "State            1097\n",
       "Postal Code      1097\n",
       "Region           1097\n",
       "Product ID       1097\n",
       "Category         1097\n",
       "Sub-Category     1097\n",
       "Product Name     1097\n",
       "Sales            1097\n",
       "dtype: int64"
      ]
     },
     "execution_count": 12,
     "metadata": {},
     "output_type": "execute_result"
    }
   ],
   "source": [
    "# to know how many column have state= new york\n",
    "e=df[df['State']=='New York']\n",
    "e.count()  "
   ]
  },
  {
   "cell_type": "markdown",
   "id": "d82d0b54",
   "metadata": {
    "papermill": {
     "duration": 0.0139,
     "end_time": "2023-01-31T07:11:40.868913",
     "exception": false,
     "start_time": "2023-01-31T07:11:40.855013",
     "status": "completed"
    },
    "tags": []
   },
   "source": [
    "### Notes:\n",
    "    - all null values = vermont ---> pstal code from google = 5401"
   ]
  },
  {
   "cell_type": "code",
   "execution_count": 13,
   "id": "b9347577",
   "metadata": {
    "execution": {
     "iopub.execute_input": "2023-01-31T07:11:40.899192Z",
     "iopub.status.busy": "2023-01-31T07:11:40.897422Z",
     "iopub.status.idle": "2023-01-31T07:11:40.907396Z",
     "shell.execute_reply": "2023-01-31T07:11:40.906025Z"
    },
    "papermill": {
     "duration": 0.028042,
     "end_time": "2023-01-31T07:11:40.911068",
     "exception": false,
     "start_time": "2023-01-31T07:11:40.883026",
     "status": "completed"
    },
    "tags": []
   },
   "outputs": [],
   "source": [
    "df['Postal Code']= df['Postal Code'].fillna(5401)"
   ]
  },
  {
   "cell_type": "code",
   "execution_count": 14,
   "id": "d26dcb8d",
   "metadata": {
    "execution": {
     "iopub.execute_input": "2023-01-31T07:11:40.936956Z",
     "iopub.status.busy": "2023-01-31T07:11:40.936514Z",
     "iopub.status.idle": "2023-01-31T07:11:40.953910Z",
     "shell.execute_reply": "2023-01-31T07:11:40.952756Z"
    },
    "papermill": {
     "duration": 0.033133,
     "end_time": "2023-01-31T07:11:40.956196",
     "exception": false,
     "start_time": "2023-01-31T07:11:40.923063",
     "status": "completed"
    },
    "tags": []
   },
   "outputs": [
    {
     "data": {
      "text/plain": [
       "Row ID           0\n",
       "Order ID         0\n",
       "Order Date       0\n",
       "Ship Date        0\n",
       "Ship Mode        0\n",
       "Customer ID      0\n",
       "Customer Name    0\n",
       "Segment          0\n",
       "Country          0\n",
       "City             0\n",
       "State            0\n",
       "Postal Code      0\n",
       "Region           0\n",
       "Product ID       0\n",
       "Category         0\n",
       "Sub-Category     0\n",
       "Product Name     0\n",
       "Sales            0\n",
       "dtype: int64"
      ]
     },
     "execution_count": 14,
     "metadata": {},
     "output_type": "execute_result"
    }
   ],
   "source": [
    "df.isnull().sum()"
   ]
  },
  {
   "cell_type": "code",
   "execution_count": 15,
   "id": "0bcc8453",
   "metadata": {
    "execution": {
     "iopub.execute_input": "2023-01-31T07:11:40.982216Z",
     "iopub.status.busy": "2023-01-31T07:11:40.981800Z",
     "iopub.status.idle": "2023-01-31T07:11:41.004892Z",
     "shell.execute_reply": "2023-01-31T07:11:41.003829Z"
    },
    "papermill": {
     "duration": 0.039367,
     "end_time": "2023-01-31T07:11:41.007751",
     "exception": false,
     "start_time": "2023-01-31T07:11:40.968384",
     "status": "completed"
    },
    "tags": []
   },
   "outputs": [],
   "source": [
    "### column type \n",
    "df['Order Date']=pd.to_datetime(df['Order Date'],format='%d/%m/%Y') \n",
    "df['Ship Date']=pd.to_datetime(df['Ship Date'],format='%d/%m/%Y') "
   ]
  },
  {
   "cell_type": "code",
   "execution_count": 16,
   "id": "01845a89",
   "metadata": {
    "execution": {
     "iopub.execute_input": "2023-01-31T07:11:41.033606Z",
     "iopub.status.busy": "2023-01-31T07:11:41.033211Z",
     "iopub.status.idle": "2023-01-31T07:11:41.053573Z",
     "shell.execute_reply": "2023-01-31T07:11:41.052095Z"
    },
    "papermill": {
     "duration": 0.036422,
     "end_time": "2023-01-31T07:11:41.056416",
     "exception": false,
     "start_time": "2023-01-31T07:11:41.019994",
     "status": "completed"
    },
    "tags": []
   },
   "outputs": [
    {
     "name": "stdout",
     "output_type": "stream",
     "text": [
      "<class 'pandas.core.frame.DataFrame'>\n",
      "RangeIndex: 9800 entries, 0 to 9799\n",
      "Data columns (total 18 columns):\n",
      " #   Column         Non-Null Count  Dtype         \n",
      "---  ------         --------------  -----         \n",
      " 0   Row ID         9800 non-null   int64         \n",
      " 1   Order ID       9800 non-null   object        \n",
      " 2   Order Date     9800 non-null   datetime64[ns]\n",
      " 3   Ship Date      9800 non-null   datetime64[ns]\n",
      " 4   Ship Mode      9800 non-null   object        \n",
      " 5   Customer ID    9800 non-null   object        \n",
      " 6   Customer Name  9800 non-null   object        \n",
      " 7   Segment        9800 non-null   object        \n",
      " 8   Country        9800 non-null   object        \n",
      " 9   City           9800 non-null   object        \n",
      " 10  State          9800 non-null   object        \n",
      " 11  Postal Code    9800 non-null   float64       \n",
      " 12  Region         9800 non-null   object        \n",
      " 13  Product ID     9800 non-null   object        \n",
      " 14  Category       9800 non-null   object        \n",
      " 15  Sub-Category   9800 non-null   object        \n",
      " 16  Product Name   9800 non-null   object        \n",
      " 17  Sales          9800 non-null   float64       \n",
      "dtypes: datetime64[ns](2), float64(2), int64(1), object(13)\n",
      "memory usage: 1.3+ MB\n"
     ]
    }
   ],
   "source": [
    "df.info()"
   ]
  },
  {
   "cell_type": "markdown",
   "id": "582af370",
   "metadata": {
    "papermill": {
     "duration": 0.011972,
     "end_time": "2023-01-31T07:11:41.080670",
     "exception": false,
     "start_time": "2023-01-31T07:11:41.068698",
     "status": "completed"
    },
    "tags": []
   },
   "source": [
    "-------------------------------------------"
   ]
  },
  {
   "cell_type": "markdown",
   "id": "618decb0",
   "metadata": {
    "papermill": {
     "duration": 0.011719,
     "end_time": "2023-01-31T07:11:41.104708",
     "exception": false,
     "start_time": "2023-01-31T07:11:41.092989",
     "status": "completed"
    },
    "tags": []
   },
   "source": [
    "#### Categorical Columns : Ship Mode ,Country ,City ,State,Postal Code,Category,Sub-Category\n",
    "#### Numrice Columns :sales"
   ]
  },
  {
   "cell_type": "code",
   "execution_count": 17,
   "id": "941e6672",
   "metadata": {
    "execution": {
     "iopub.execute_input": "2023-01-31T07:11:41.130505Z",
     "iopub.status.busy": "2023-01-31T07:11:41.130108Z",
     "iopub.status.idle": "2023-01-31T07:11:41.139186Z",
     "shell.execute_reply": "2023-01-31T07:11:41.138096Z"
    },
    "papermill": {
     "duration": 0.024825,
     "end_time": "2023-01-31T07:11:41.141689",
     "exception": false,
     "start_time": "2023-01-31T07:11:41.116864",
     "status": "completed"
    },
    "tags": []
   },
   "outputs": [
    {
     "data": {
      "text/plain": [
       "Standard Class    5859\n",
       "Second Class      1902\n",
       "First Class       1501\n",
       "Same Day           538\n",
       "Name: Ship Mode, dtype: int64"
      ]
     },
     "execution_count": 17,
     "metadata": {},
     "output_type": "execute_result"
    }
   ],
   "source": [
    "df['Ship Mode'].value_counts()"
   ]
  },
  {
   "cell_type": "code",
   "execution_count": 18,
   "id": "172c2f5b",
   "metadata": {
    "execution": {
     "iopub.execute_input": "2023-01-31T07:11:41.168988Z",
     "iopub.status.busy": "2023-01-31T07:11:41.168541Z",
     "iopub.status.idle": "2023-01-31T07:11:41.351170Z",
     "shell.execute_reply": "2023-01-31T07:11:41.349050Z"
    },
    "papermill": {
     "duration": 0.202615,
     "end_time": "2023-01-31T07:11:41.356874",
     "exception": false,
     "start_time": "2023-01-31T07:11:41.154259",
     "status": "completed"
    },
    "tags": []
   },
   "outputs": [
    {
     "data": {
      "text/plain": [
       "<AxesSubplot:ylabel='Ship Mode'>"
      ]
     },
     "execution_count": 18,
     "metadata": {},
     "output_type": "execute_result"
    },
    {
     "data": {
      "image/png": "[encoded data removed]",
      "text/plain": [
       "<Figure size 432x288 with 1 Axes>"
      ]
     },
     "metadata": {},
     "output_type": "display_data"
    }
   ],
   "source": [
    "df['Ship Mode'].value_counts().plot.pie()"
   ]
  },
  {
   "cell_type": "code",
   "execution_count": 19,
   "id": "3a5b24cc",
   "metadata": {
    "execution": {
     "iopub.execute_input": "2023-01-31T07:11:41.415793Z",
     "iopub.status.busy": "2023-01-31T07:11:41.415348Z",
     "iopub.status.idle": "2023-01-31T07:11:41.635456Z",
     "shell.execute_reply": "2023-01-31T07:11:41.634063Z"
    },
    "papermill": {
     "duration": 0.248562,
     "end_time": "2023-01-31T07:11:41.638286",
     "exception": false,
     "start_time": "2023-01-31T07:11:41.389724",
     "status": "completed"
    },
    "tags": []
   },
   "outputs": [
    {
     "data": {
      "text/plain": [
       "<AxesSubplot:>"
      ]
     },
     "execution_count": 19,
     "metadata": {},
     "output_type": "execute_result"
    },
    {
     "data": {
      "image/png": "[encoded data removed]",
      "text/plain": [
       "<Figure size 432x288 with 1 Axes>"
      ]
     },
     "metadata": {
      "needs_background": "light"
     },
     "output_type": "display_data"
    }
   ],
   "source": [
    "df['Ship Mode'].value_counts().plot.bar()"
   ]
  },
  {
   "cell_type": "markdown",
   "id": "47081758",
   "metadata": {
    "papermill": {
     "duration": 0.013087,
     "end_time": "2023-01-31T07:11:41.664813",
     "exception": false,
     "start_time": "2023-01-31T07:11:41.651726",
     "status": "completed"
    },
    "tags": []
   },
   "source": [
    "#### Notes:\n",
    "    - 60% of Ship mode : Standerd\n",
    "    - 40% of Ship mode : secound class"
   ]
  },
  {
   "cell_type": "code",
   "execution_count": 20,
   "id": "5db0551a",
   "metadata": {
    "execution": {
     "iopub.execute_input": "2023-01-31T07:11:41.695448Z",
     "iopub.status.busy": "2023-01-31T07:11:41.693931Z",
     "iopub.status.idle": "2023-01-31T07:11:41.703331Z",
     "shell.execute_reply": "2023-01-31T07:11:41.702373Z"
    },
    "papermill": {
     "duration": 0.027818,
     "end_time": "2023-01-31T07:11:41.706024",
     "exception": false,
     "start_time": "2023-01-31T07:11:41.678206",
     "status": "completed"
    },
    "tags": []
   },
   "outputs": [
    {
     "data": {
      "text/plain": [
       "Consumer       5101\n",
       "Corporate      2953\n",
       "Home Office    1746\n",
       "Name: Segment, dtype: int64"
      ]
     },
     "execution_count": 20,
     "metadata": {},
     "output_type": "execute_result"
    }
   ],
   "source": [
    "df['Segment'].value_counts()"
   ]
  },
  {
   "cell_type": "code",
   "execution_count": 21,
   "id": "ecbd0d59",
   "metadata": {
    "execution": {
     "iopub.execute_input": "2023-01-31T07:11:41.737031Z",
     "iopub.status.busy": "2023-01-31T07:11:41.735434Z",
     "iopub.status.idle": "2023-01-31T07:11:41.850681Z",
     "shell.execute_reply": "2023-01-31T07:11:41.848892Z"
    },
    "papermill": {
     "duration": 0.135363,
     "end_time": "2023-01-31T07:11:41.855374",
     "exception": false,
     "start_time": "2023-01-31T07:11:41.720011",
     "status": "completed"
    },
    "tags": []
   },
   "outputs": [
    {
     "data": {
      "text/plain": [
       "<AxesSubplot:ylabel='Segment'>"
      ]
     },
     "execution_count": 21,
     "metadata": {},
     "output_type": "execute_result"
    },
    {
     "data": {
      "image/png": "[encoded data removed]",
      "text/plain": [
       "<Figure size 432x288 with 1 Axes>"
      ]
     },
     "metadata": {},
     "output_type": "display_data"
    }
   ],
   "source": [
    "df['Segment'].value_counts().plot.pie()"
   ]
  },
  {
   "cell_type": "markdown",
   "id": "e303e498",
   "metadata": {
    "papermill": {
     "duration": 0.036045,
     "end_time": "2023-01-31T07:11:41.929736",
     "exception": false,
     "start_time": "2023-01-31T07:11:41.893691",
     "status": "completed"
    },
    "tags": []
   },
   "source": [
    "#### Noes:\n",
    "    - 55% usere Consumer\n",
    "    - 35 corprate"
   ]
  },
  {
   "cell_type": "code",
   "execution_count": 22,
   "id": "358eee3a",
   "metadata": {
    "execution": {
     "iopub.execute_input": "2023-01-31T07:11:41.961093Z",
     "iopub.status.busy": "2023-01-31T07:11:41.960329Z",
     "iopub.status.idle": "2023-01-31T07:11:41.969176Z",
     "shell.execute_reply": "2023-01-31T07:11:41.967852Z"
    },
    "papermill": {
     "duration": 0.02736,
     "end_time": "2023-01-31T07:11:41.971533",
     "exception": false,
     "start_time": "2023-01-31T07:11:41.944173",
     "status": "completed"
    },
    "tags": []
   },
   "outputs": [
    {
     "data": {
      "text/plain": [
       "United States    9800\n",
       "Name: Country, dtype: int64"
      ]
     },
     "execution_count": 22,
     "metadata": {},
     "output_type": "execute_result"
    }
   ],
   "source": [
    "df['Country'].value_counts()"
   ]
  },
  {
   "cell_type": "markdown",
   "id": "788094f9",
   "metadata": {
    "papermill": {
     "duration": 0.013366,
     "end_time": "2023-01-31T07:11:41.998879",
     "exception": false,
     "start_time": "2023-01-31T07:11:41.985513",
     "status": "completed"
    },
    "tags": []
   },
   "source": [
    "#### Notes :\n",
    "    - all sales in USA"
   ]
  },
  {
   "cell_type": "code",
   "execution_count": 23,
   "id": "de166648",
   "metadata": {
    "execution": {
     "iopub.execute_input": "2023-01-31T07:11:42.028037Z",
     "iopub.status.busy": "2023-01-31T07:11:42.027587Z",
     "iopub.status.idle": "2023-01-31T07:11:42.038127Z",
     "shell.execute_reply": "2023-01-31T07:11:42.036948Z"
    },
    "papermill": {
     "duration": 0.027906,
     "end_time": "2023-01-31T07:11:42.040329",
     "exception": false,
     "start_time": "2023-01-31T07:11:42.012423",
     "status": "completed"
    },
    "tags": []
   },
   "outputs": [
    {
     "data": {
      "text/plain": [
       "New York City    891\n",
       "Los Angeles      728\n",
       "Philadelphia     532\n",
       "San Francisco    500\n",
       "Seattle          426\n",
       "                ... \n",
       "San Mateo          1\n",
       "Cheyenne           1\n",
       "Conway             1\n",
       "Melbourne          1\n",
       "Springdale         1\n",
       "Name: City, Length: 529, dtype: int64"
      ]
     },
     "execution_count": 23,
     "metadata": {},
     "output_type": "execute_result"
    }
   ],
   "source": [
    "df['City'].value_counts()"
   ]
  },
  {
   "cell_type": "markdown",
   "id": "7f8b110b",
   "metadata": {
    "papermill": {
     "duration": 0.014872,
     "end_time": "2023-01-31T07:11:42.068904",
     "exception": false,
     "start_time": "2023-01-31T07:11:42.054032",
     "status": "completed"
    },
    "tags": []
   },
   "source": [
    "#### Notes :\n",
    "    - more than 500 city \n",
    "    - attention hight sales cities\n"
   ]
  },
  {
   "cell_type": "markdown",
   "id": "936e753f",
   "metadata": {
    "papermill": {
     "duration": 0.013129,
     "end_time": "2023-01-31T07:11:42.095654",
     "exception": false,
     "start_time": "2023-01-31T07:11:42.082525",
     "status": "completed"
    },
    "tags": []
   },
   "source": [
    "----------------------------------------"
   ]
  },
  {
   "cell_type": "code",
   "execution_count": 24,
   "id": "57b38ac9",
   "metadata": {
    "execution": {
     "iopub.execute_input": "2023-01-31T07:11:42.125241Z",
     "iopub.status.busy": "2023-01-31T07:11:42.124500Z",
     "iopub.status.idle": "2023-01-31T07:11:42.347192Z",
     "shell.execute_reply": "2023-01-31T07:11:42.346019Z"
    },
    "papermill": {
     "duration": 0.240529,
     "end_time": "2023-01-31T07:11:42.349930",
     "exception": false,
     "start_time": "2023-01-31T07:11:42.109401",
     "status": "completed"
    },
    "tags": []
   },
   "outputs": [
    {
     "data": {
      "text/plain": [
       "Text(0.5, 1.0, 'Ship Mode')"
      ]
     },
     "execution_count": 24,
     "metadata": {},
     "output_type": "execute_result"
    },
    {
     "data": {
      "image/png": "[encoded data removed]",
      "text/plain": [
       "<Figure size 432x288 with 1 Axes>"
      ]
     },
     "metadata": {
      "needs_background": "light"
     },
     "output_type": "display_data"
    }
   ],
   "source": [
    "sns.countplot(x='Ship Mode',data=df)\n",
    "plt.title('Ship Mode')"
   ]
  },
  {
   "cell_type": "code",
   "execution_count": 25,
   "id": "57d22c54",
   "metadata": {
    "execution": {
     "iopub.execute_input": "2023-01-31T07:11:42.380516Z",
     "iopub.status.busy": "2023-01-31T07:11:42.380103Z",
     "iopub.status.idle": "2023-01-31T07:11:42.589298Z",
     "shell.execute_reply": "2023-01-31T07:11:42.587863Z"
    },
    "papermill": {
     "duration": 0.227763,
     "end_time": "2023-01-31T07:11:42.591960",
     "exception": false,
     "start_time": "2023-01-31T07:11:42.364197",
     "status": "completed"
    },
    "tags": []
   },
   "outputs": [
    {
     "data": {
      "text/plain": [
       "<AxesSubplot:xlabel='Category', ylabel='count'>"
      ]
     },
     "execution_count": 25,
     "metadata": {},
     "output_type": "execute_result"
    },
    {
     "data": {
      "image/png": "[encoded data removed]",
      "text/plain": [
       "<Figure size 432x288 with 1 Axes>"
      ]
     },
     "metadata": {
      "needs_background": "light"
     },
     "output_type": "display_data"
    }
   ],
   "source": [
    "sns.countplot(x='Category',data=df)"
   ]
  },
  {
   "cell_type": "markdown",
   "id": "7883d50b",
   "metadata": {
    "papermill": {
     "duration": 0.013895,
     "end_time": "2023-01-31T07:11:42.621301",
     "exception": false,
     "start_time": "2023-01-31T07:11:42.607406",
     "status": "completed"
    },
    "tags": []
   },
   "source": [
    "#### Notes:\n",
    "    - office supplies ----> high orders\n",
    "    - office supplies get orders more than rest of all categorise"
   ]
  },
  {
   "cell_type": "code",
   "execution_count": 26,
   "id": "2ac86385",
   "metadata": {
    "execution": {
     "iopub.execute_input": "2023-01-31T07:11:42.653797Z",
     "iopub.status.busy": "2023-01-31T07:11:42.652731Z",
     "iopub.status.idle": "2023-01-31T07:11:43.034524Z",
     "shell.execute_reply": "2023-01-31T07:11:43.033109Z"
    },
    "papermill": {
     "duration": 0.400872,
     "end_time": "2023-01-31T07:11:43.037253",
     "exception": false,
     "start_time": "2023-01-31T07:11:42.636381",
     "status": "completed"
    },
    "tags": []
   },
   "outputs": [
    {
     "data": {
      "text/plain": [
       "(array([ 0,  1,  2,  3,  4,  5,  6,  7,  8,  9, 10, 11, 12, 13, 14, 15, 16]),\n",
       " [Text(0, 0, 'Bookcases'),\n",
       "  Text(1, 0, 'Chairs'),\n",
       "  Text(2, 0, 'Labels'),\n",
       "  Text(3, 0, 'Tables'),\n",
       "  Text(4, 0, 'Storage'),\n",
       "  Text(5, 0, 'Furnishings'),\n",
       "  Text(6, 0, 'Art'),\n",
       "  Text(7, 0, 'Phones'),\n",
       "  Text(8, 0, 'Binders'),\n",
       "  Text(9, 0, 'Appliances'),\n",
       "  Text(10, 0, 'Paper'),\n",
       "  Text(11, 0, 'Accessories'),\n",
       "  Text(12, 0, 'Envelopes'),\n",
       "  Text(13, 0, 'Fasteners'),\n",
       "  Text(14, 0, 'Supplies'),\n",
       "  Text(15, 0, 'Machines'),\n",
       "  Text(16, 0, 'Copiers')])"
      ]
     },
     "execution_count": 26,
     "metadata": {},
     "output_type": "execute_result"
    },
    {
     "data": {
      "image/png": "[encoded data removed]",
      "text/plain": [
       "<Figure size 1152x432 with 1 Axes>"
      ]
     },
     "metadata": {
      "needs_background": "light"
     },
     "output_type": "display_data"
    }
   ],
   "source": [
    "plt.figure(figsize=(16,6))\n",
    "sns.countplot(x='Sub-Category',data=df)\n",
    "# to sho the names as vertical\n",
    "plt.xticks(rotation='vertical')"
   ]
  },
  {
   "cell_type": "code",
   "execution_count": 27,
   "id": "2bb82ea5",
   "metadata": {
    "execution": {
     "iopub.execute_input": "2023-01-31T07:11:43.070312Z",
     "iopub.status.busy": "2023-01-31T07:11:43.069872Z",
     "iopub.status.idle": "2023-01-31T07:11:44.010324Z",
     "shell.execute_reply": "2023-01-31T07:11:44.008279Z"
    },
    "papermill": {
     "duration": 0.961311,
     "end_time": "2023-01-31T07:11:44.013531",
     "exception": false,
     "start_time": "2023-01-31T07:11:43.052220",
     "status": "completed"
    },
    "tags": []
   },
   "outputs": [
    {
     "data": {
      "text/plain": [
       "(array([ 0,  1,  2,  3,  4,  5,  6,  7,  8,  9, 10, 11, 12, 13, 14, 15, 16,\n",
       "        17, 18, 19, 20, 21, 22, 23, 24, 25, 26, 27, 28, 29, 30, 31, 32, 33,\n",
       "        34, 35, 36, 37, 38, 39, 40, 41, 42, 43, 44, 45, 46, 47, 48]),\n",
       " [Text(0, 0, 'Kentucky'),\n",
       "  Text(1, 0, 'California'),\n",
       "  Text(2, 0, 'Florida'),\n",
       "  Text(3, 0, 'North Carolina'),\n",
       "  Text(4, 0, 'Washington'),\n",
       "  Text(5, 0, 'Texas'),\n",
       "  Text(6, 0, 'Wisconsin'),\n",
       "  Text(7, 0, 'Utah'),\n",
       "  Text(8, 0, 'Nebraska'),\n",
       "  Text(9, 0, 'Pennsylvania'),\n",
       "  Text(10, 0, 'Illinois'),\n",
       "  Text(11, 0, 'Minnesota'),\n",
       "  Text(12, 0, 'Michigan'),\n",
       "  Text(13, 0, 'Delaware'),\n",
       "  Text(14, 0, 'Indiana'),\n",
       "  Text(15, 0, 'New York'),\n",
       "  Text(16, 0, 'Arizona'),\n",
       "  Text(17, 0, 'Virginia'),\n",
       "  Text(18, 0, 'Tennessee'),\n",
       "  Text(19, 0, 'Alabama'),\n",
       "  Text(20, 0, 'South Carolina'),\n",
       "  Text(21, 0, 'Oregon'),\n",
       "  Text(22, 0, 'Colorado'),\n",
       "  Text(23, 0, 'Iowa'),\n",
       "  Text(24, 0, 'Ohio'),\n",
       "  Text(25, 0, 'Missouri'),\n",
       "  Text(26, 0, 'Oklahoma'),\n",
       "  Text(27, 0, 'New Mexico'),\n",
       "  Text(28, 0, 'Louisiana'),\n",
       "  Text(29, 0, 'Connecticut'),\n",
       "  Text(30, 0, 'New Jersey'),\n",
       "  Text(31, 0, 'Massachusetts'),\n",
       "  Text(32, 0, 'Georgia'),\n",
       "  Text(33, 0, 'Nevada'),\n",
       "  Text(34, 0, 'Rhode Island'),\n",
       "  Text(35, 0, 'Mississippi'),\n",
       "  Text(36, 0, 'Arkansas'),\n",
       "  Text(37, 0, 'Montana'),\n",
       "  Text(38, 0, 'New Hampshire'),\n",
       "  Text(39, 0, 'Maryland'),\n",
       "  Text(40, 0, 'District of Columbia'),\n",
       "  Text(41, 0, 'Kansas'),\n",
       "  Text(42, 0, 'Vermont'),\n",
       "  Text(43, 0, 'Maine'),\n",
       "  Text(44, 0, 'South Dakota'),\n",
       "  Text(45, 0, 'Idaho'),\n",
       "  Text(46, 0, 'North Dakota'),\n",
       "  Text(47, 0, 'Wyoming'),\n",
       "  Text(48, 0, 'West Virginia')])"
      ]
     },
     "execution_count": 27,
     "metadata": {},
     "output_type": "execute_result"
    },
    {
     "data": {
      "image/png": "[encoded data removed]",
      "text/plain": [
       "<Figure size 1872x432 with 1 Axes>"
      ]
     },
     "metadata": {
      "needs_background": "light"
     },
     "output_type": "display_data"
    }
   ],
   "source": [
    "plt.figure(figsize=(26,6))\n",
    "sns.countplot(x='State',data=df)\n",
    "# to sho the names as vertical\n",
    "plt.xticks(rotation='vertical')"
   ]
  },
  {
   "cell_type": "markdown",
   "id": "92a480eb",
   "metadata": {
    "papermill": {
     "duration": 0.016619,
     "end_time": "2023-01-31T07:11:44.047499",
     "exception": false,
     "start_time": "2023-01-31T07:11:44.030880",
     "status": "completed"
    },
    "tags": []
   },
   "source": [
    "### Top 15 States in Sales"
   ]
  },
  {
   "cell_type": "code",
   "execution_count": 28,
   "id": "c2bace88",
   "metadata": {
    "execution": {
     "iopub.execute_input": "2023-01-31T07:11:44.081417Z",
     "iopub.status.busy": "2023-01-31T07:11:44.080940Z",
     "iopub.status.idle": "2023-01-31T07:11:44.103492Z",
     "shell.execute_reply": "2023-01-31T07:11:44.101771Z"
    },
    "papermill": {
     "duration": 0.042755,
     "end_time": "2023-01-31T07:11:44.106154",
     "exception": false,
     "start_time": "2023-01-31T07:11:44.063399",
     "status": "completed"
    },
    "tags": []
   },
   "outputs": [
    {
     "data": {
      "text/html": [
       "<div>\n",
       "<style scoped>\n",
       "    .dataframe tbody tr th:only-of-type {\n",
       "        vertical-align: middle;\n",
       "    }\n",
       "\n",
       "    .dataframe tbody tr th {\n",
       "        vertical-align: top;\n",
       "    }\n",
       "\n",
       "    .dataframe thead th {\n",
       "        text-align: right;\n",
       "    }\n",
       "</style>\n",
       "<table border=\"1\" class=\"dataframe\">\n",
       "  <thead>\n",
       "    <tr style=\"text-align: right;\">\n",
       "      <th></th>\n",
       "      <th>State</th>\n",
       "      <th>Sales</th>\n",
       "    </tr>\n",
       "  </thead>\n",
       "  <tbody>\n",
       "    <tr>\n",
       "      <th>0</th>\n",
       "      <td>California</td>\n",
       "      <td>446306.46</td>\n",
       "    </tr>\n",
       "    <tr>\n",
       "      <th>1</th>\n",
       "      <td>New York</td>\n",
       "      <td>306361.15</td>\n",
       "    </tr>\n",
       "    <tr>\n",
       "      <th>2</th>\n",
       "      <td>Texas</td>\n",
       "      <td>168572.53</td>\n",
       "    </tr>\n",
       "    <tr>\n",
       "      <th>3</th>\n",
       "      <td>Washington</td>\n",
       "      <td>135206.85</td>\n",
       "    </tr>\n",
       "    <tr>\n",
       "      <th>4</th>\n",
       "      <td>Pennsylvania</td>\n",
       "      <td>116276.65</td>\n",
       "    </tr>\n",
       "    <tr>\n",
       "      <th>5</th>\n",
       "      <td>Florida</td>\n",
       "      <td>88436.53</td>\n",
       "    </tr>\n",
       "    <tr>\n",
       "      <th>6</th>\n",
       "      <td>Illinois</td>\n",
       "      <td>79236.52</td>\n",
       "    </tr>\n",
       "    <tr>\n",
       "      <th>7</th>\n",
       "      <td>Michigan</td>\n",
       "      <td>76136.07</td>\n",
       "    </tr>\n",
       "    <tr>\n",
       "      <th>8</th>\n",
       "      <td>Ohio</td>\n",
       "      <td>75130.35</td>\n",
       "    </tr>\n",
       "    <tr>\n",
       "      <th>9</th>\n",
       "      <td>Virginia</td>\n",
       "      <td>70636.72</td>\n",
       "    </tr>\n",
       "    <tr>\n",
       "      <th>10</th>\n",
       "      <td>North Carolina</td>\n",
       "      <td>55165.96</td>\n",
       "    </tr>\n",
       "    <tr>\n",
       "      <th>11</th>\n",
       "      <td>Indiana</td>\n",
       "      <td>48718.40</td>\n",
       "    </tr>\n",
       "    <tr>\n",
       "      <th>12</th>\n",
       "      <td>Georgia</td>\n",
       "      <td>48219.11</td>\n",
       "    </tr>\n",
       "    <tr>\n",
       "      <th>13</th>\n",
       "      <td>Kentucky</td>\n",
       "      <td>36458.39</td>\n",
       "    </tr>\n",
       "    <tr>\n",
       "      <th>14</th>\n",
       "      <td>Arizona</td>\n",
       "      <td>35272.66</td>\n",
       "    </tr>\n",
       "  </tbody>\n",
       "</table>\n",
       "</div>"
      ],
      "text/plain": [
       "             State      Sales\n",
       "0       California  446306.46\n",
       "1         New York  306361.15\n",
       "2            Texas  168572.53\n",
       "3       Washington  135206.85\n",
       "4     Pennsylvania  116276.65\n",
       "5          Florida   88436.53\n",
       "6         Illinois   79236.52\n",
       "7         Michigan   76136.07\n",
       "8             Ohio   75130.35\n",
       "9         Virginia   70636.72\n",
       "10  North Carolina   55165.96\n",
       "11         Indiana   48718.40\n",
       "12         Georgia   48219.11\n",
       "13        Kentucky   36458.39\n",
       "14         Arizona   35272.66"
      ]
     },
     "execution_count": 28,
     "metadata": {},
     "output_type": "execute_result"
    }
   ],
   "source": [
    "top_states=df.groupby('State').sum().sort_values('Sales',ascending=False).head(15)\n",
    "top_states=top_states[['Sales']].round(2)\n",
    "top_states.reset_index(inplace=True)\n",
    "top_states"
   ]
  },
  {
   "cell_type": "code",
   "execution_count": 29,
   "id": "a738126a",
   "metadata": {
    "execution": {
     "iopub.execute_input": "2023-01-31T07:11:44.143198Z",
     "iopub.status.busy": "2023-01-31T07:11:44.142451Z",
     "iopub.status.idle": "2023-01-31T07:11:44.535183Z",
     "shell.execute_reply": "2023-01-31T07:11:44.533509Z"
    },
    "papermill": {
     "duration": 0.414981,
     "end_time": "2023-01-31T07:11:44.537974",
     "exception": false,
     "start_time": "2023-01-31T07:11:44.122993",
     "status": "completed"
    },
    "tags": []
   },
   "outputs": [
    {
     "data": {
      "image/png": "[encoded data removed]",
      "text/plain": [
       "<Figure size 1152x432 with 1 Axes>"
      ]
     },
     "metadata": {
      "needs_background": "light"
     },
     "output_type": "display_data"
    }
   ],
   "source": [
    "plt.figure(figsize=(16,6))\n",
    "plt.bar(top_states['State'],top_states['Sales'],color='pink',edgecolor='gray')\n",
    "plt.title(\"Top 15 States with Sales \",fontsize=16)\n",
    "plt.xlabel('State',fontsize=14)\n",
    "plt.ylabel('Sales',fontsize=14)\n",
    "plt.xticks(rotation='vertical')\n",
    "\n",
    "for k,v in top_states['Sales'].items():\n",
    "    if v> 100000:\n",
    "        plt.text(k,v-60000,f'${str(v)}',rotation=90)\n",
    "    else:\n",
    "         plt.text(k,v-20000,f'${str(v)}',rotation=90)"
   ]
  },
  {
   "cell_type": "code",
   "execution_count": 30,
   "id": "f778cc23",
   "metadata": {
    "execution": {
     "iopub.execute_input": "2023-01-31T07:11:44.576500Z",
     "iopub.status.busy": "2023-01-31T07:11:44.575964Z",
     "iopub.status.idle": "2023-01-31T07:11:44.601976Z",
     "shell.execute_reply": "2023-01-31T07:11:44.600885Z"
    },
    "papermill": {
     "duration": 0.048482,
     "end_time": "2023-01-31T07:11:44.604893",
     "exception": false,
     "start_time": "2023-01-31T07:11:44.556411",
     "status": "completed"
    },
    "tags": []
   },
   "outputs": [
    {
     "data": {
      "text/html": [
       "<div>\n",
       "<style scoped>\n",
       "    .dataframe tbody tr th:only-of-type {\n",
       "        vertical-align: middle;\n",
       "    }\n",
       "\n",
       "    .dataframe tbody tr th {\n",
       "        vertical-align: top;\n",
       "    }\n",
       "\n",
       "    .dataframe thead th {\n",
       "        text-align: right;\n",
       "    }\n",
       "</style>\n",
       "<table border=\"1\" class=\"dataframe\">\n",
       "  <thead>\n",
       "    <tr style=\"text-align: right;\">\n",
       "      <th></th>\n",
       "      <th>City</th>\n",
       "      <th>Sales</th>\n",
       "    </tr>\n",
       "  </thead>\n",
       "  <tbody>\n",
       "    <tr>\n",
       "      <th>0</th>\n",
       "      <td>New York City</td>\n",
       "      <td>252462.55</td>\n",
       "    </tr>\n",
       "    <tr>\n",
       "      <th>1</th>\n",
       "      <td>Los Angeles</td>\n",
       "      <td>173420.18</td>\n",
       "    </tr>\n",
       "    <tr>\n",
       "      <th>2</th>\n",
       "      <td>Seattle</td>\n",
       "      <td>116106.32</td>\n",
       "    </tr>\n",
       "    <tr>\n",
       "      <th>3</th>\n",
       "      <td>San Francisco</td>\n",
       "      <td>109041.12</td>\n",
       "    </tr>\n",
       "    <tr>\n",
       "      <th>4</th>\n",
       "      <td>Philadelphia</td>\n",
       "      <td>108841.75</td>\n",
       "    </tr>\n",
       "    <tr>\n",
       "      <th>5</th>\n",
       "      <td>Houston</td>\n",
       "      <td>63956.14</td>\n",
       "    </tr>\n",
       "    <tr>\n",
       "      <th>6</th>\n",
       "      <td>Chicago</td>\n",
       "      <td>47820.13</td>\n",
       "    </tr>\n",
       "    <tr>\n",
       "      <th>7</th>\n",
       "      <td>San Diego</td>\n",
       "      <td>47521.03</td>\n",
       "    </tr>\n",
       "    <tr>\n",
       "      <th>8</th>\n",
       "      <td>Jacksonville</td>\n",
       "      <td>44713.18</td>\n",
       "    </tr>\n",
       "    <tr>\n",
       "      <th>9</th>\n",
       "      <td>Detroit</td>\n",
       "      <td>42446.94</td>\n",
       "    </tr>\n",
       "    <tr>\n",
       "      <th>10</th>\n",
       "      <td>Springfield</td>\n",
       "      <td>41827.81</td>\n",
       "    </tr>\n",
       "    <tr>\n",
       "      <th>11</th>\n",
       "      <td>Columbus</td>\n",
       "      <td>38662.56</td>\n",
       "    </tr>\n",
       "    <tr>\n",
       "      <th>12</th>\n",
       "      <td>Newark</td>\n",
       "      <td>28448.05</td>\n",
       "    </tr>\n",
       "    <tr>\n",
       "      <th>13</th>\n",
       "      <td>Columbia</td>\n",
       "      <td>25283.32</td>\n",
       "    </tr>\n",
       "    <tr>\n",
       "      <th>14</th>\n",
       "      <td>Jackson</td>\n",
       "      <td>24963.86</td>\n",
       "    </tr>\n",
       "  </tbody>\n",
       "</table>\n",
       "</div>"
      ],
      "text/plain": [
       "             City      Sales\n",
       "0   New York City  252462.55\n",
       "1     Los Angeles  173420.18\n",
       "2         Seattle  116106.32\n",
       "3   San Francisco  109041.12\n",
       "4    Philadelphia  108841.75\n",
       "5         Houston   63956.14\n",
       "6         Chicago   47820.13\n",
       "7       San Diego   47521.03\n",
       "8    Jacksonville   44713.18\n",
       "9         Detroit   42446.94\n",
       "10    Springfield   41827.81\n",
       "11       Columbus   38662.56\n",
       "12         Newark   28448.05\n",
       "13       Columbia   25283.32\n",
       "14        Jackson   24963.86"
      ]
     },
     "execution_count": 30,
     "metadata": {},
     "output_type": "execute_result"
    }
   ],
   "source": [
    "top_cities=df.groupby('City').sum().sort_values('Sales',ascending=False).head(15)\n",
    "top_cities=top_cities[['Sales']].round(2)\n",
    "top_cities.reset_index(inplace=True)\n",
    "top_cities"
   ]
  },
  {
   "cell_type": "code",
   "execution_count": 31,
   "id": "fbfa2d44",
   "metadata": {
    "execution": {
     "iopub.execute_input": "2023-01-31T07:11:44.642552Z",
     "iopub.status.busy": "2023-01-31T07:11:44.641826Z",
     "iopub.status.idle": "2023-01-31T07:11:45.049301Z",
     "shell.execute_reply": "2023-01-31T07:11:45.047600Z"
    },
    "papermill": {
     "duration": 0.430088,
     "end_time": "2023-01-31T07:11:45.052255",
     "exception": false,
     "start_time": "2023-01-31T07:11:44.622167",
     "status": "completed"
    },
    "tags": []
   },
   "outputs": [
    {
     "data": {
      "image/png": "[encoded data removed]",
      "text/plain": [
       "<Figure size 1152x432 with 1 Axes>"
      ]
     },
     "metadata": {
      "needs_background": "light"
     },
     "output_type": "display_data"
    }
   ],
   "source": [
    "plt.figure(figsize=(16,6))\n",
    "plt.bar(top_cities['City'],top_cities['Sales'],color='pink',edgecolor='gray')\n",
    "plt.title(\"Top 15 Cities with Sales \",fontsize=16)\n",
    "plt.xlabel('City',fontsize=14)\n",
    "plt.ylabel('Sales',fontsize=14)\n",
    "plt.xticks(rotation='vertical')\n",
    "\n",
    "for k,v in top_cities['Sales'].items():\n",
    "    if v> 100000:\n",
    "        plt.text(k,v-60000,f'${str(v)}',rotation=90)\n",
    "    else:\n",
    "         plt.text(k,v-20000,f'${str(v)}',rotation=90)"
   ]
  },
  {
   "cell_type": "code",
   "execution_count": null,
   "id": "8079d57e",
   "metadata": {
    "execution": {
     "iopub.execute_input": "2023-01-31T07:08:51.146550Z",
     "iopub.status.busy": "2023-01-31T07:08:51.145483Z",
     "iopub.status.idle": "2023-01-31T07:08:51.212788Z",
     "shell.execute_reply": "2023-01-31T07:08:51.211309Z",
     "shell.execute_reply.started": "2023-01-31T07:08:51.146513Z"
    },
    "papermill": {
     "duration": 0.019161,
     "end_time": "2023-01-31T07:11:45.090652",
     "exception": false,
     "start_time": "2023-01-31T07:11:45.071491",
     "status": "completed"
    },
    "tags": []
   },
   "outputs": [],
   "source": []
  }
 ],
 "metadata": {
  "kernelspec": {
   "display_name": "Python 3",
   "language": "python",
   "name": "python3"
  },
  "language_info": {
   "codemirror_mode": {
    "name": "ipython",
    "version": 3
   },
   "file_extension": ".py",
   "mimetype": "text/x-python",
   "name": "python",
   "nbconvert_exporter": "python",
   "pygments_lexer": "ipython3",
   "version": "3.7.12"
  },
  "papermill": {
   "default_parameters": {},
   "duration": 19.056225,
   "end_time": "2023-01-31T07:11:46.033303",
   "environment_variables": {},
   "exception": null,
   "input_path": "__notebook__.ipynb",
   "output_path": "__notebook__.ipynb",
   "parameters": {},
   "start_time": "2023-01-31T07:11:26.977078",
   "version": "2.3.4"
  }
 },
 "nbformat": 4,
 "nbformat_minor": 5
}
